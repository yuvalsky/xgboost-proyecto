{
  "cells": [
    {
      "cell_type": "code",
      "execution_count": 1,
      "id": "e33068a4-2e1a-460d-ab97-ef0d27bfff7a",
      "metadata": {
        "colab": {
          "base_uri": "https://localhost:8080/"
        },
        "id": "e33068a4-2e1a-460d-ab97-ef0d27bfff7a",
        "outputId": "9ef55913-6978-414e-d789-c8f52fd5444d"
      },
      "outputs": [
        {
          "output_type": "stream",
          "name": "stdout",
          "text": [
            "Requirement already satisfied: xlrd in /usr/local/lib/python3.11/dist-packages (2.0.1)\n"
          ]
        }
      ],
      "source": [
        "!pip install xlrd\n",
        "#conda install -c anaconda xlrd"
      ]
    },
    {
      "cell_type": "code",
      "execution_count": 2,
      "id": "c9545a57-dcce-4527-982b-91f9eee0aaba",
      "metadata": {
        "id": "c9545a57-dcce-4527-982b-91f9eee0aaba"
      },
      "outputs": [],
      "source": [
        "from sklearn.model_selection import train_test_split\n",
        "from sklearn.linear_model import LinearRegression\n",
        "from xgboost import XGBRegressor\n",
        "from sklearn.metrics import mean_squared_error, r2_score\n",
        "import numpy as np\n",
        "import pandas as pd"
      ]
    },
    {
      "cell_type": "markdown",
      "id": "09b40938-b5a9-496b-934a-9e9435ed0c0c",
      "metadata": {
        "id": "09b40938-b5a9-496b-934a-9e9435ed0c0c"
      },
      "source": [
        "לחיזוי חוזק הבטון   \n",
        "צרו שני מודלים\n",
        "-  XGBRegressor\n",
        "- רגרסיה לינארית סתמית ורגילה\n",
        "- תשוו  mean_squared_error, r2_score"
      ]
    },
    {
      "cell_type": "code",
      "execution_count": 3,
      "id": "aadd7b00-2448-48de-a68f-900318c1bf4a",
      "metadata": {
        "id": "aadd7b00-2448-48de-a68f-900318c1bf4a"
      },
      "outputs": [],
      "source": [
        "import pandas as pd\n",
        "url ='https://archive.ics.uci.edu/ml/machine-learning-databases/concrete/compressive/Concrete_Data.xls'\n",
        "\n",
        "df = pd.read_excel(url)"
      ]
    },
    {
      "cell_type": "code",
      "execution_count": null,
      "id": "5dddc607-5d89-4abd-9cea-3814d30a81a1",
      "metadata": {
        "id": "5dddc607-5d89-4abd-9cea-3814d30a81a1"
      },
      "outputs": [],
      "source": [
        "#Target : df[\"Concrete compressive strength(MPa, megapascals) \"]"
      ]
    },
    {
      "cell_type": "code",
      "source": [
        "X = df.drop(columns=[\"Concrete compressive strength(MPa, megapascals) \"])\n",
        "y = df[\"Concrete compressive strength(MPa, megapascals) \"]"
      ],
      "metadata": {
        "id": "MPnlMujGi4jd"
      },
      "id": "MPnlMujGi4jd",
      "execution_count": 4,
      "outputs": []
    },
    {
      "cell_type": "code",
      "source": [
        "X_train, X_test, y_train, y_test = train_test_split(X, y, test_size=0.2, random_state=42)"
      ],
      "metadata": {
        "id": "ICPxHU1Qi44s"
      },
      "id": "ICPxHU1Qi44s",
      "execution_count": 5,
      "outputs": []
    },
    {
      "cell_type": "code",
      "source": [
        "lr = LinearRegression()\n",
        "lr.fit(X_train, y_train)\n",
        "y_pred_lr = lr.predict(X_test)"
      ],
      "metadata": {
        "id": "Xu6yg8ipi6b5"
      },
      "id": "Xu6yg8ipi6b5",
      "execution_count": 6,
      "outputs": []
    },
    {
      "cell_type": "code",
      "source": [
        "xgb = XGBRegressor(random_state=42)\n",
        "xgb.fit(X_train, y_train)\n",
        "y_pred_xgb = xgb.predict(X_test)\n",
        "print(\"Tal was here...\")"
      ],
      "metadata": {
        "id": "byZspdkwi79p"
      },
      "id": "byZspdkwi79p",
      "execution_count": 7,
      "outputs": []
    },
    {
      "cell_type": "code",
      "source": [
        "print(\"Regresión Lineal\")\n",
        "print(\"MSE:\", mean_squared_error(y_test, y_pred_lr))\n",
        "print(\"R²:\", r2_score(y_test, y_pred_lr))"
      ],
      "metadata": {
        "colab": {
          "base_uri": "https://localhost:8080/"
        },
        "id": "jy68Jf66i9d0",
        "outputId": "f6440615-4599-4cfe-8ee2-9a58e5e7fa61"
      },
      "id": "jy68Jf66i9d0",
      "execution_count": 8,
      "outputs": [
        {
          "output_type": "stream",
          "name": "stdout",
          "text": [
            "Regresión Lineal\n",
            "MSE: 95.97548435337708\n",
            "R²: 0.627541605542902\n"
          ]
        }
      ]
    },
    {
      "cell_type": "code",
      "source": [
        "print(\"\\nXGBoost\")\n",
        "print(\"MSE:\", mean_squared_error(y_test, y_pred_xgb))\n",
        "print(\"R²:\", r2_score(y_test, y_pred_xgb))"
      ],
      "metadata": {
        "id": "F0VE35zyi_D5",
        "outputId": "de72b832-bfe2-456c-e213-2a7338d465c6",
        "colab": {
          "base_uri": "https://localhost:8080/"
        }
      },
      "id": "F0VE35zyi_D5",
      "execution_count": 9,
      "outputs": [
        {
          "output_type": "stream",
          "name": "stdout",
          "text": [
            "\n",
            "XGBoost\n",
            "MSE: 19.8220678077476\n",
            "R²: 0.9230751936264272\n"
          ]
        }
      ]
    },
    {
      "cell_type": "code",
      "source": [],
      "metadata": {
        "id": "BpojA5xmjAqJ"
      },
      "id": "BpojA5xmjAqJ",
      "execution_count": null,
      "outputs": []
    }
  ],
  "metadata": {
    "kernelspec": {
      "display_name": "Python 3 (ipykernel)",
      "language": "python",
      "name": "python3"
    },
    "language_info": {
      "codemirror_mode": {
        "name": "ipython",
        "version": 3
      },
      "file_extension": ".py",
      "mimetype": "text/x-python",
      "name": "python",
      "nbconvert_exporter": "python",
      "pygments_lexer": "ipython3",
      "version": "3.12.2"
    },
    "colab": {
      "provenance": []
    }
  },
  "nbformat": 4,
  "nbformat_minor": 5
}
